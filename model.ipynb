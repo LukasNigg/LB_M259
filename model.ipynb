{
 "cells": [
  {
   "cell_type": "code",
   "execution_count": 10,
   "id": "420b91c6",
   "metadata": {},
   "outputs": [
    {
     "data": {
      "text/html": [
       "<div>\n",
       "<style scoped>\n",
       "    .dataframe tbody tr th:only-of-type {\n",
       "        vertical-align: middle;\n",
       "    }\n",
       "\n",
       "    .dataframe tbody tr th {\n",
       "        vertical-align: top;\n",
       "    }\n",
       "\n",
       "    .dataframe thead th {\n",
       "        text-align: right;\n",
       "    }\n",
       "</style>\n",
       "<table border=\"1\" class=\"dataframe\">\n",
       "  <thead>\n",
       "    <tr style=\"text-align: right;\">\n",
       "      <th></th>\n",
       "      <th>rated</th>\n",
       "      <th>turns</th>\n",
       "      <th>victory_status</th>\n",
       "      <th>winner</th>\n",
       "      <th>time_increment_1</th>\n",
       "      <th>time_increment_2</th>\n",
       "      <th>white_rating</th>\n",
       "      <th>black_rating</th>\n",
       "      <th>opening_moves</th>\n",
       "    </tr>\n",
       "  </thead>\n",
       "  <tbody>\n",
       "    <tr>\n",
       "      <th>0</th>\n",
       "      <td>0</td>\n",
       "      <td>13</td>\n",
       "      <td>3</td>\n",
       "      <td>1</td>\n",
       "      <td>15</td>\n",
       "      <td>2</td>\n",
       "      <td>1500</td>\n",
       "      <td>1191</td>\n",
       "      <td>5</td>\n",
       "    </tr>\n",
       "    <tr>\n",
       "      <th>1</th>\n",
       "      <td>1</td>\n",
       "      <td>16</td>\n",
       "      <td>2</td>\n",
       "      <td>0</td>\n",
       "      <td>5</td>\n",
       "      <td>10</td>\n",
       "      <td>1322</td>\n",
       "      <td>1261</td>\n",
       "      <td>4</td>\n",
       "    </tr>\n",
       "    <tr>\n",
       "      <th>2</th>\n",
       "      <td>1</td>\n",
       "      <td>61</td>\n",
       "      <td>1</td>\n",
       "      <td>1</td>\n",
       "      <td>5</td>\n",
       "      <td>10</td>\n",
       "      <td>1496</td>\n",
       "      <td>1500</td>\n",
       "      <td>3</td>\n",
       "    </tr>\n",
       "    <tr>\n",
       "      <th>3</th>\n",
       "      <td>1</td>\n",
       "      <td>61</td>\n",
       "      <td>1</td>\n",
       "      <td>1</td>\n",
       "      <td>20</td>\n",
       "      <td>0</td>\n",
       "      <td>1439</td>\n",
       "      <td>1454</td>\n",
       "      <td>3</td>\n",
       "    </tr>\n",
       "    <tr>\n",
       "      <th>4</th>\n",
       "      <td>1</td>\n",
       "      <td>95</td>\n",
       "      <td>1</td>\n",
       "      <td>1</td>\n",
       "      <td>30</td>\n",
       "      <td>3</td>\n",
       "      <td>1523</td>\n",
       "      <td>1469</td>\n",
       "      <td>5</td>\n",
       "    </tr>\n",
       "  </tbody>\n",
       "</table>\n",
       "</div>"
      ],
      "text/plain": [
       "   rated  turns  victory_status  winner  time_increment_1  time_increment_2  \\\n",
       "0      0     13               3       1                15                 2   \n",
       "1      1     16               2       0                 5                10   \n",
       "2      1     61               1       1                 5                10   \n",
       "3      1     61               1       1                20                 0   \n",
       "4      1     95               1       1                30                 3   \n",
       "\n",
       "   white_rating  black_rating  opening_moves  \n",
       "0          1500          1191              5  \n",
       "1          1322          1261              4  \n",
       "2          1496          1500              3  \n",
       "3          1439          1454              3  \n",
       "4          1523          1469              5  "
      ]
     },
     "execution_count": 10,
     "metadata": {},
     "output_type": "execute_result"
    }
   ],
   "source": [
    "import pandas as pd\n",
    "import os\n",
    "\n",
    "chess_games = pd.read_csv(os.path.join(\"chess_games.csv\"))\n",
    "\n",
    "chess_games.head()"
   ]
  },
  {
   "cell_type": "code",
   "execution_count": 11,
   "id": "e4e54616",
   "metadata": {},
   "outputs": [
    {
     "name": "stderr",
     "output_type": "stream",
     "text": [
      "C:\\Users\\Lukas Nigg\\AppData\\Local\\Temp\\ipykernel_24152\\1994534261.py:4: SettingWithCopyWarning: \n",
      "A value is trying to be set on a copy of a slice from a DataFrame\n",
      "\n",
      "See the caveats in the documentation: https://pandas.pydata.org/pandas-docs/stable/user_guide/indexing.html#returning-a-view-versus-a-copy\n",
      "  X.drop([\"winner\"], axis=1, inplace=True)\n",
      "C:\\Users\\Lukas Nigg\\AppData\\Local\\Temp\\ipykernel_24152\\1994534261.py:5: SettingWithCopyWarning: \n",
      "A value is trying to be set on a copy of a slice from a DataFrame\n",
      "\n",
      "See the caveats in the documentation: https://pandas.pydata.org/pandas-docs/stable/user_guide/indexing.html#returning-a-view-versus-a-copy\n",
      "  y.drop([\"rated\", \"turns\", \"victory_status\", \"time_increment_1\", \"time_increment_2\", \"white_rating\", \"black_rating\", \"opening_moves\"], axis=1, inplace=True)\n"
     ]
    }
   ],
   "source": [
    "X = chess_games[:]\n",
    "y = chess_games[:]\n",
    "\n",
    "X.drop([\"winner\"], axis=1, inplace=True)\n",
    "y.drop([\"rated\", \"turns\", \"victory_status\", \"time_increment_1\", \"time_increment_2\", \"white_rating\", \"black_rating\", \"opening_moves\"], axis=1, inplace=True)"
   ]
  },
  {
   "cell_type": "code",
   "execution_count": 12,
   "id": "c1d00d9c",
   "metadata": {},
   "outputs": [
    {
     "name": "stdout",
     "output_type": "stream",
     "text": [
      "0\n",
      "0\n"
     ]
    }
   ],
   "source": [
    "print(len(X[X.isna().any(axis=1)]))\n",
    "print(len(y[y.isna().any(axis=1)]))"
   ]
  },
  {
   "cell_type": "code",
   "execution_count": 13,
   "id": "e5566720",
   "metadata": {},
   "outputs": [
    {
     "name": "stderr",
     "output_type": "stream",
     "text": [
      "C:\\Users\\Lukas Nigg\\AppData\\Local\\Temp\\ipykernel_24152\\3751916059.py:7: SettingWithCopyWarning: \n",
      "A value is trying to be set on a copy of a slice from a DataFrame.\n",
      "Try using .loc[row_indexer,col_indexer] = value instead\n",
      "\n",
      "See the caveats in the documentation: https://pandas.pydata.org/pandas-docs/stable/user_guide/indexing.html#returning-a-view-versus-a-copy\n",
      "  dataframe[columns] = pd.DataFrame(scaled, columns=columns)\n"
     ]
    },
    {
     "data": {
      "text/html": [
       "<div>\n",
       "<style scoped>\n",
       "    .dataframe tbody tr th:only-of-type {\n",
       "        vertical-align: middle;\n",
       "    }\n",
       "\n",
       "    .dataframe tbody tr th {\n",
       "        vertical-align: top;\n",
       "    }\n",
       "\n",
       "    .dataframe thead th {\n",
       "        text-align: right;\n",
       "    }\n",
       "</style>\n",
       "<table border=\"1\" class=\"dataframe\">\n",
       "  <thead>\n",
       "    <tr style=\"text-align: right;\">\n",
       "      <th></th>\n",
       "      <th>rated</th>\n",
       "      <th>turns</th>\n",
       "      <th>victory_status</th>\n",
       "      <th>time_increment_1</th>\n",
       "      <th>time_increment_2</th>\n",
       "      <th>white_rating</th>\n",
       "      <th>black_rating</th>\n",
       "      <th>opening_moves</th>\n",
       "    </tr>\n",
       "  </thead>\n",
       "  <tbody>\n",
       "    <tr>\n",
       "      <th>0</th>\n",
       "      <td>0</td>\n",
       "      <td>-1.413952</td>\n",
       "      <td>3</td>\n",
       "      <td>0.068526</td>\n",
       "      <td>-0.227418</td>\n",
       "      <td>-0.331788</td>\n",
       "      <td>-1.366985</td>\n",
       "      <td>0.065432</td>\n",
       "    </tr>\n",
       "    <tr>\n",
       "      <th>1</th>\n",
       "      <td>1</td>\n",
       "      <td>-1.324585</td>\n",
       "      <td>2</td>\n",
       "      <td>-0.514233</td>\n",
       "      <td>0.332444</td>\n",
       "      <td>-0.942955</td>\n",
       "      <td>-1.126459</td>\n",
       "      <td>-0.292083</td>\n",
       "    </tr>\n",
       "    <tr>\n",
       "      <th>2</th>\n",
       "      <td>1</td>\n",
       "      <td>0.015907</td>\n",
       "      <td>1</td>\n",
       "      <td>-0.514233</td>\n",
       "      <td>0.332444</td>\n",
       "      <td>-0.345522</td>\n",
       "      <td>-0.305234</td>\n",
       "      <td>-0.649599</td>\n",
       "    </tr>\n",
       "    <tr>\n",
       "      <th>3</th>\n",
       "      <td>1</td>\n",
       "      <td>0.015907</td>\n",
       "      <td>1</td>\n",
       "      <td>0.359906</td>\n",
       "      <td>-0.367383</td>\n",
       "      <td>-0.541233</td>\n",
       "      <td>-0.463294</td>\n",
       "      <td>-0.649599</td>\n",
       "    </tr>\n",
       "    <tr>\n",
       "      <th>4</th>\n",
       "      <td>1</td>\n",
       "      <td>1.028724</td>\n",
       "      <td>1</td>\n",
       "      <td>0.942665</td>\n",
       "      <td>-0.157435</td>\n",
       "      <td>-0.252817</td>\n",
       "      <td>-0.411753</td>\n",
       "      <td>0.065432</td>\n",
       "    </tr>\n",
       "  </tbody>\n",
       "</table>\n",
       "</div>"
      ],
      "text/plain": [
       "   rated     turns  victory_status  time_increment_1  time_increment_2  \\\n",
       "0      0 -1.413952               3          0.068526         -0.227418   \n",
       "1      1 -1.324585               2         -0.514233          0.332444   \n",
       "2      1  0.015907               1         -0.514233          0.332444   \n",
       "3      1  0.015907               1          0.359906         -0.367383   \n",
       "4      1  1.028724               1          0.942665         -0.157435   \n",
       "\n",
       "   white_rating  black_rating  opening_moves  \n",
       "0     -0.331788     -1.366985       0.065432  \n",
       "1     -0.942955     -1.126459      -0.292083  \n",
       "2     -0.345522     -0.305234      -0.649599  \n",
       "3     -0.541233     -0.463294      -0.649599  \n",
       "4     -0.252817     -0.411753       0.065432  "
      ]
     },
     "execution_count": 13,
     "metadata": {},
     "output_type": "execute_result"
    }
   ],
   "source": [
    "from sklearn import preprocessing\n",
    "\n",
    "standard_scaler = preprocessing.StandardScaler().fit(X[[\"turns\", \"time_increment_1\", \"time_increment_2\", \"white_rating\", \"black_rating\", \"opening_moves\"]])\n",
    "\n",
    "def scale(dataframe, columns, scaler):\n",
    "    scaled = scaler.transform(dataframe[columns])\n",
    "    dataframe[columns] = pd.DataFrame(scaled, columns=columns)\n",
    "    return dataframe\n",
    "\n",
    "X = scale(X, [\"turns\", \"time_increment_1\", \"time_increment_2\", \"white_rating\", \"black_rating\", \"opening_moves\"], standard_scaler)\n",
    "X.head()"
   ]
  },
  {
   "cell_type": "code",
   "execution_count": 14,
   "id": "4697aac3",
   "metadata": {},
   "outputs": [
    {
     "data": {
      "text/plain": [
       "(16046, 4012)"
      ]
     },
     "execution_count": 14,
     "metadata": {},
     "output_type": "execute_result"
    }
   ],
   "source": [
    "from sklearn.model_selection import train_test_split\n",
    "X_train, X_test, y_train, y_test = train_test_split(X, y, test_size = 0.2, random_state = 42)\n",
    "\n",
    "len(X_train), len(X_test)"
   ]
  },
  {
   "cell_type": "code",
   "execution_count": 15,
   "id": "acb8f920",
   "metadata": {
    "scrolled": true
   },
   "outputs": [
    {
     "name": "stdout",
     "output_type": "stream",
     "text": [
      "Nearest Neighbors 0.62\n",
      "Stochastic Gradient Descent 0.67\n",
      "Linear SVM 0.67\n",
      "Decision Tree 0.63\n",
      "Random Forest 0.6\n",
      "Neural Net 0.67\n",
      "Naive Bayes 0.66\n",
      "LDA 0.67\n"
     ]
    }
   ],
   "source": [
    "from sklearn.neural_network import MLPClassifier\n",
    "from sklearn.neighbors import KNeighborsClassifier\n",
    "from sklearn.linear_model import SGDClassifier\n",
    "from sklearn.svm import SVC\n",
    "from sklearn.tree import DecisionTreeClassifier\n",
    "from sklearn.ensemble import RandomForestClassifier\n",
    "from sklearn.naive_bayes import GaussianNB\n",
    "from sklearn.discriminant_analysis import LinearDiscriminantAnalysis\n",
    "\n",
    "algorithms = {\n",
    "    \"Nearest Neighbors\" : KNeighborsClassifier(3),\n",
    "    \"Stochastic Gradient Descent\" : SGDClassifier(),\n",
    "    \"Linear SVM\" : SVC(kernel=\"linear\", C=0.025),\n",
    "    \"Decision Tree\" : DecisionTreeClassifier(max_depth=5),\n",
    "    \"Random Forest\" : RandomForestClassifier(max_depth=5, n_estimators=10, max_features=1),\n",
    "    \"Neural Net\" : MLPClassifier(alpha=1, max_iter=1000),\n",
    "    \"Naive Bayes\" : GaussianNB(),\n",
    "    \"LDA\" : LinearDiscriminantAnalysis(),\n",
    "}\n",
    "\n",
    "for name, algorithm in algorithms.items():\n",
    "    algorithm.fit(X_train, y_train.values.ravel())\n",
    "    score = algorithm.score(X_test, y_test)\n",
    "    print(name, round(score, 2))"
   ]
  },
  {
   "cell_type": "markdown",
   "id": "50191ed7",
   "metadata": {},
   "source": [
    "Der Algorithmus \"Neural Net\" ist am besten geeignet, da der Score bei ihm am höchsten ist."
   ]
  },
  {
   "cell_type": "code",
   "execution_count": 16,
   "id": "edb935bd",
   "metadata": {},
   "outputs": [
    {
     "data": {
      "text/plain": [
       "MLPClassifier(alpha=1, max_iter=1000)"
      ]
     },
     "execution_count": 16,
     "metadata": {},
     "output_type": "execute_result"
    }
   ],
   "source": [
    "import joblib\n",
    "joblib.dump(algorithms[\"Neural Net\"], 'chess_games_model.joblib')\n",
    "model = joblib.load('chess_games_model.joblib')\n",
    "model"
   ]
  },
  {
   "cell_type": "code",
   "execution_count": 17,
   "id": "f602edde",
   "metadata": {},
   "outputs": [
    {
     "data": {
      "text/html": [
       "<div>\n",
       "<style scoped>\n",
       "    .dataframe tbody tr th:only-of-type {\n",
       "        vertical-align: middle;\n",
       "    }\n",
       "\n",
       "    .dataframe tbody tr th {\n",
       "        vertical-align: top;\n",
       "    }\n",
       "\n",
       "    .dataframe thead th {\n",
       "        text-align: right;\n",
       "    }\n",
       "</style>\n",
       "<table border=\"1\" class=\"dataframe\">\n",
       "  <thead>\n",
       "    <tr style=\"text-align: right;\">\n",
       "      <th></th>\n",
       "      <th>rated</th>\n",
       "      <th>turns</th>\n",
       "      <th>victory_status</th>\n",
       "      <th>time_increment_1</th>\n",
       "      <th>time_increment_2</th>\n",
       "      <th>white_rating</th>\n",
       "      <th>black_rating</th>\n",
       "      <th>opening_moves</th>\n",
       "    </tr>\n",
       "  </thead>\n",
       "  <tbody>\n",
       "    <tr>\n",
       "      <th>0</th>\n",
       "      <td>0</td>\n",
       "      <td>-0.133036</td>\n",
       "      <td>2</td>\n",
       "      <td>0.359906</td>\n",
       "      <td>-0.01747</td>\n",
       "      <td>-0.033071</td>\n",
       "      <td>-0.305234</td>\n",
       "      <td>-0.292083</td>\n",
       "    </tr>\n",
       "  </tbody>\n",
       "</table>\n",
       "</div>"
      ],
      "text/plain": [
       "   rated     turns  victory_status  time_increment_1  time_increment_2  \\\n",
       "0      0 -0.133036               2          0.359906          -0.01747   \n",
       "\n",
       "   white_rating  black_rating  opening_moves  \n",
       "0     -0.033071     -0.305234      -0.292083  "
      ]
     },
     "execution_count": 17,
     "metadata": {},
     "output_type": "execute_result"
    }
   ],
   "source": [
    "test1 = pd.DataFrame([[0, 49, 2, 15, 0, 1500, 978, 3]], columns=X_train.columns)\n",
    "test1 = scale(test1, [\"turns\", \"time_increment_1\", \"time_increment_2\", \"white_rating\", \"black_rating\", \"opening_moves\"], standard_scaler)\n",
    "test1.head()\n",
    "\n",
    "test2 = pd.DataFrame([[1, 40, 1, 10, 0, 1523, 1523, 5]], columns=X_train.columns)\n",
    "test2 = scale(test2, [\"turns\", \"time_increment_1\", \"time_increment_2\", \"white_rating\", \"black_rating\", \"opening_moves\"], standard_scaler)\n",
    "test2.head()\n",
    "\n",
    "test3 = pd.DataFrame([[0, 56, 2, 20, 5, 1587, 1500, 4]], columns=X_train.columns)\n",
    "test3 = scale(test3, [\"turns\", \"time_increment_1\", \"time_increment_2\", \"white_rating\", \"black_rating\", \"opening_moves\"], standard_scaler)\n",
    "test3.head()"
   ]
  },
  {
   "cell_type": "code",
   "execution_count": 18,
   "id": "ad9c59f9",
   "metadata": {},
   "outputs": [
    {
     "name": "stdout",
     "output_type": "stream",
     "text": [
      "Test1: Weiss gewinnt\n",
      "Test2: Weiss gewinnt\n",
      "Test3: Weiss gewinnt\n"
     ]
    }
   ],
   "source": [
    "predictions = model.predict(pd.concat([test1, test2, test3]))\n",
    "for game, prediction in zip([\"Test1\", \"Test2\", \"Test3\"], predictions):\n",
    "    if prediction == 0:\n",
    "        print(game + \": Schwarz gewinnt\")\n",
    "    elif prediction == 1:\n",
    "        print(game + \": Weiss gewinnt\")\n",
    "    else:\n",
    "        print(game + \": Unentschieden\")"
   ]
  },
  {
   "cell_type": "markdown",
   "id": "1e263b23",
   "metadata": {},
   "source": [
    "# Erkenntnisse\n",
    "Ich habe einige Tests durchgeführt, indem ich mehrere Zeilen in der Tabelle zufällig ausgewählt und die Ergebnisse manuell überprüft habe. Mehrheitlich wird das Ergebnis korrekt vorhergesagt, aber man merkt trotzdem, dass die Wahrscheinlichkeit für ein korrektes Resultat nicht sehr hoch ist. Als ich die Algorithmen ausgewählt habe, war die Wahrscheinlichkeit des Algorithmus \"Neural Net\" auf 67% - 68%."
   ]
  },
  {
   "cell_type": "code",
   "execution_count": null,
   "id": "61f9ad30",
   "metadata": {},
   "outputs": [],
   "source": []
  }
 ],
 "metadata": {
  "kernelspec": {
   "display_name": "Python 3 (ipykernel)",
   "language": "python",
   "name": "python3"
  },
  "language_info": {
   "codemirror_mode": {
    "name": "ipython",
    "version": 3
   },
   "file_extension": ".py",
   "mimetype": "text/x-python",
   "name": "python",
   "nbconvert_exporter": "python",
   "pygments_lexer": "ipython3",
   "version": "3.10.2"
  }
 },
 "nbformat": 4,
 "nbformat_minor": 5
}
