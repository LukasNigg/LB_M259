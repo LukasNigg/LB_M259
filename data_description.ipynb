{
 "cells": [
  {
   "cell_type": "markdown",
   "id": "56798922",
   "metadata": {},
   "source": [
    "**Aufgabe 2.1**\n",
    "\n",
    "Ich möchte über die Spalte \"winner\" Vorhersagen treffen können."
   ]
  },
  {
   "cell_type": "code",
   "execution_count": 99,
   "id": "5de63e4b",
   "metadata": {},
   "outputs": [],
   "source": [
    "# Read file\n",
    "import pandas as pd\n",
    "import os\n",
    "\n",
    "chess = pd.read_csv(os.path.join(\"chess_games.csv\"))"
   ]
  },
  {
   "cell_type": "code",
   "execution_count": 154,
   "id": "b984e3af",
   "metadata": {},
   "outputs": [
    {
     "data": {
      "text/plain": [
       "2.797151810630093"
      ]
     },
     "execution_count": 154,
     "metadata": {},
     "output_type": "execute_result"
    }
   ],
   "source": [
    "# Aufgabe 2.2\n",
    "\n",
    "# rated\n",
    "chess[\"rated\"].mode()\n",
    "\n",
    "# turns\n",
    "chess[\"turns\"].mean()\n",
    "chess[\"turns\"].std()\n",
    "\n",
    "# vicroty_status\n",
    "chess[\"victory_status\"].mode()\n",
    "\n",
    "# winner\n",
    "chess[\"winner\"].mode()\n",
    "\n",
    "# time_increment_1\n",
    "chess[\"time_increment_1\"].mean()\n",
    "chess[\"time_increment_1\"].std()\n",
    "\n",
    "# time_increment_2\n",
    "chess[\"time_increment_2\"].mean()\n",
    "chess[\"time_increment_2\"].std()\n",
    "\n",
    "# white_rating\n",
    "chess[\"white_rating\"].mean()\n",
    "chess[\"white_rating\"].median()\n",
    "chess[\"white_rating\"].std()\n",
    "\n",
    "# black_rating\n",
    "chess[\"black_rating\"].mean()\n",
    "chess[\"black_rating\"].median()\n",
    "chess[\"black_rating\"].std()\n",
    "\n",
    "# opening_moves\n",
    "chess[\"opening_moves\"].mean()\n",
    "chess[\"opening_moves\"].median()\n",
    "chess[\"opening_moves\"].std()"
   ]
  },
  {
   "cell_type": "code",
   "execution_count": 164,
   "id": "ed292113",
   "metadata": {
    "scrolled": false
   },
   "outputs": [
    {
     "data": {
      "image/png": "[encoded data removed]",
      "text/plain": [
       "<Figure size 1440x432 with 2 Axes>"
      ]
     },
     "metadata": {
      "needs_background": "light"
     },
     "output_type": "display_data"
    }
   ],
   "source": [
    "# Aufgabe 2.3\n",
    "import matplotlib.pyplot as plt\n",
    "\n",
    "figure, ax = plt.subplots(1, 2, figsize=(20, 6))\n",
    "figure.suptitle(\"white_rating und black_rating im Vergleich zum Gewinner\")\n",
    "\n",
    "x = chess[\"winner\"]\n",
    "y = chess[\"white_rating\"]\n",
    "ax[0].bar(x, y)\n",
    "ax[0].set_xlabel(\"winner\")\n",
    "ax[0].set_ylabel(\"white_rating\")\n",
    "\n",
    "y = chess[\"black_rating\"]\n",
    "ax[1].bar(x, y)\n",
    "ax[1].set_xlabel(\"winner\")\n",
    "ax[1].set_ylabel(\"black_rating\")\n",
    "\n",
    "plt.show()"
   ]
  },
  {
   "cell_type": "code",
   "execution_count": 173,
   "id": "be528cd7",
   "metadata": {},
   "outputs": [
    {
     "name": "stdout",
     "output_type": "stream",
     "text": [
      "0        0.034483\n",
      "1        0.043103\n",
      "2        0.172414\n",
      "3        0.172414\n",
      "4        0.270115\n",
      "           ...   \n",
      "20053    0.066092\n",
      "20054    0.232759\n",
      "20055    0.097701\n",
      "20056    0.310345\n",
      "20057    0.221264\n",
      "Name: turns, Length: 20058, dtype: float64\n",
      "0        0.373695\n",
      "1        0.280793\n",
      "2        0.371608\n",
      "3        0.341858\n",
      "4        0.385699\n",
      "           ...   \n",
      "20053    0.473382\n",
      "20054    0.234342\n",
      "20055    0.227035\n",
      "20056    0.300626\n",
      "20057    0.235386\n",
      "Name: white_rating, Length: 20058, dtype: float64\n",
      "0        0.207859\n",
      "1        0.244054\n",
      "2        0.367632\n",
      "3        0.343847\n",
      "4        0.351603\n",
      "           ...   \n",
      "20053    0.222854\n",
      "20054    0.210445\n",
      "20055    0.256980\n",
      "20056    0.226474\n",
      "20057    0.284385\n",
      "Name: black_rating, Length: 20058, dtype: float64\n"
     ]
    }
   ],
   "source": [
    "# Aufgabe 2.4\n",
    "x = chess[\"turns\"]\n",
    "y = (x - min(x)) / (max(x) - min(x))\n",
    "print(y)\n",
    "\n",
    "x = chess[\"white_rating\"]\n",
    "y = (x - min(x)) / (max(x) - min(x))\n",
    "print(y)\n",
    "\n",
    "x = chess[\"black_rating\"]\n",
    "y = (x - min(x)) / (max(x) - min(x))\n",
    "print(y)"
   ]
  },
  {
   "cell_type": "code",
   "execution_count": null,
   "id": "ba767632",
   "metadata": {},
   "outputs": [],
   "source": []
  }
 ],
 "metadata": {
  "kernelspec": {
   "display_name": "Python 3 (ipykernel)",
   "language": "python",
   "name": "python3"
  },
  "language_info": {
   "codemirror_mode": {
    "name": "ipython",
    "version": 3
   },
   "file_extension": ".py",
   "mimetype": "text/x-python",
   "name": "python",
   "nbconvert_exporter": "python",
   "pygments_lexer": "ipython3",
   "version": "3.10.2"
  }
 },
 "nbformat": 4,
 "nbformat_minor": 5
}
